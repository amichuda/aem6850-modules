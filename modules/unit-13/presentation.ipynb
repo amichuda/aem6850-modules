{
 "cells": [
  {
   "cell_type": "raw",
   "id": "42cfb495",
   "metadata": {},
   "source": [
    "---\n",
    "title: Dynamic Documents\n",
    "number-sections: true\n",
    "author: Aleksandr Michuda\n",
    "format:\n",
    "  docx:\n",
    "    toc: true\n",
    "    number-sections: true\n",
    "    highlight-style: github\n",
    "  pdf:\n",
    "    output-file: presentation_pdf_basic.pdf\n",
    "  elsevier-pdf:\n",
    "    output-file: presentation_elsevier.pdf\n",
    "  html:\n",
    "    theme: cosmo\n",
    "    css: styles.css\n",
    "    toc: true\n",
    "  beamer:\n",
    "    output-file: presentation_beamer.pdf\n",
    "    number-sections: true\n",
    "  pptx:\n",
    "    output-file: presentation_powerpoints.pdf\n",
    "institute: 'Center for Data Science for Enterprise and Society, Cornell University'\n",
    "execute:\n",
    "  keep-ipynb: true\n",
    "bibliography: references.bib\n",
    "---"
   ]
  },
  {
   "cell_type": "markdown",
   "id": "2e94d99c",
   "metadata": {},
   "source": [
    "## Before We Begin\n",
    "\n",
    "- Take-home Examsadfkgjdlfkj\n",
    "- We will start presentation soon!\n",
    "\n",
    "## Why Dynamic Documents?\n",
    "\n",
    "Dynamic Documents are a part of the bigger picture of Reproducible Science. Sure, there is a fixed cost; **BUT**, they make my life easier in these ways:\n",
    "\n",
    "-   Short term: Easier to document fresh out of the oven results\n",
    "-   Medium term: Fast, reliable and tractable new results\n",
    "-   Long term: You can see how everything was created\n",
    "\n",
    "## What are Dynamic Documents?\n",
    "\n",
    "Based on principles of literate programming, we aim at combining code and paper in one single document\n",
    "\n",
    "-   Best framework to achieve the holy grail of one-click reproducible workflow\n",
    "-   Best implementations: Quarto.\n",
    "\n",
    "## The State of Things Now\n",
    "\n",
    "Currently, the code and the narrative components live in separate universes\n",
    "\n",
    "<img src=\"figures/flow_3.png\" width=\"1000\"/>\n",
    "\n",
    "## Part of Larger Workflow\n",
    "\n",
    "-   Dynamic documents are best used as part of a larger organized workflow\n",
    "    -   Structuring folders: Data, analysis, output\n",
    "    -   Documenting code\n",
    "    -   Combining both into a final document: Pre analysis or final paper\n",
    "- We have already been using jupyter notebooks, but what if you want to turn that notebook into a publishable format for sharing or even submission?\n",
    "\n",
    "## Using Markdown\n",
    "\n",
    "-   In terms of writing the \"paper\"/documentation part of dynamic documents, there are many solutions\n",
    "    -   Latex, HTML, RST (ReStructured Text)\n",
    "-   But most have honed in on using Markdown\n",
    "    -   Markdown is an easy way to write formatted text in a plain text format\n",
    "    -   But without as verbose and difficult of a syntax like latex/HTML\n",
    "-   Although basic markdown has the basics for formatting, creating tables, adding figures\n",
    "-   We will use Pandoc, which is used in both the Stata and R sessions\n",
    "\n",
    "## What is Pandoc?\n",
    "\n",
    "-   Pandoc is sort of what it says: pan (all), doc (document)\n",
    "-   It's a way to convert between and across different file formats\n",
    "    -   Word -\\> HTML\n",
    "    -   Latex -\\> Markdown\n",
    "    -   HTML -\\> XML\n",
    "    -   Anything to anything\n",
    "-   See Pandoc's [website](https://pandoc.org/MANUAL.html#options) for all input and output filetypes\n",
    "\n",
    "## The Magic of Pandoc\n",
    "\n",
    "-   Pandoc and Markdown allows you to create one file that can then be used in many different places\n",
    "-   Example:\n",
    "    -   You're writing your CV and want to put it up in various places.\n",
    "    -   Your website needs HTML\n",
    "    -   One job posting allows PDF\n",
    "    -   One job posting only allows Word\n",
    "-   Ordinarily, you would need to have three versions, Word, HTML, PDF\n",
    "    -   This might get unruly as you change one but forget to change the other\n",
    "    -   What if there's another file format you might need?\n",
    "-   With Pandoc and markdown, you would:\n",
    "    -   write your CV in markdown\n",
    "    -   convert to PDF, Word and PDF with pandoc\n",
    "\n",
    "## Quarto\n",
    "\n",
    "- Quarto is the successor or RMarkdown, a very powerful dynamic document software developed for RStudio\n",
    "- Now it also applies to jupyter notebooks and allows for creating nice documents from the notebooks you create!\n",
    "- Dynamic documents usually have a `yaml` header at the top, that defines global options\n",
    "    - We will talk about three special types of yaml options in Quarto:\n",
    "        - output type\n",
    "        - hiding code or output\n",
    "        - execution options\n",
    "\n",
    "## What is YAML?\n",
    "\n",
    "- YAML is a very basic language created by Ansible (I think?) to define options for its software in a way that didn't require lots of coding.\n",
    "\n",
    "```\n",
    "---\n",
    "title: \"Toward a Unified Theory of High-Energy Metaphysics: Silly String Theory\"\n",
    "date: 2008-02-29\n",
    "author:\n",
    "  - name: Josiah Carberry\n",
    "    id: jc\n",
    "    orcid: 0000-0002-1825-0097\n",
    "    email: josiah@psychoceramics.org\n",
    "    affiliation: \n",
    "      - name: Brown University\n",
    "        city: Providence\n",
    "        state: RI\n",
    "        url: www.brown.edu\n",
    "abstract: > \n",
    "  The characteristic theme of the works of Stone is \n",
    "  the bridge between culture and society. ...\n",
    "keywords:\n",
    "  - Metaphysics\n",
    "  - String Theory\n",
    "license: \"CC BY\"\n",
    "copyright: \n",
    "  holder: Josiah Carberry\n",
    "  year: 2008\n",
    "citation: \n",
    "  container-title: Journal of Psychoceramics\n",
    "  volume: 1\n",
    "  issue: 1\n",
    "  doi: 10.5555/12345678\n",
    "funding: \"The author received no specific funding for this work.\"\n",
    "---\n",
    "```\n"
   ]
  },
  {
   "cell_type": "markdown",
   "id": "fcbce956",
   "metadata": {},
   "source": [
    "## YAML\n",
    "\n",
    "- But the basic thing you need in order to get the paper is:\n",
    "\n",
    "```\n",
    "---\n",
    "title: My paper\n",
    "author: Aleksandr Michuda\n",
    "---\n",
    "```"
   ]
  },
  {
   "cell_type": "markdown",
   "id": "df26ea36",
   "metadata": {},
   "source": [
    "## Preview of what we will talk about\n",
    "\n",
    "- Quarto is VERY expansive, you can write websites, books or dissertations with it\n",
    "    - All with jupyter notebooks\n",
    "- Today, we will focus on the basics that you will need if you wanted to write  paper using a jupyter notebooks:\n",
    "    1. Tables\n",
    "    2. Figures\n",
    "    3. Cross-references\n",
    "    4. Citations"
   ]
  },
  {
   "cell_type": "markdown",
   "id": "f7c3deb2",
   "metadata": {},
   "source": [
    "## Tables\n",
    "\n",
    "- You can create tables easily in three ways:\n",
    "    - Create your own markdown table (Not dynamic)\n",
    "    - Put in a latex table directly (Not dynamic)\n",
    "    - Generate a table from code (Dynamic)"
   ]
  },
  {
   "cell_type": "raw",
   "id": "c1a10923",
   "metadata": {},
   "source": [
    "| Default | Left | Right | Center |\n",
    "|---------|:-----|------:|:------:|\n",
    "| 12      | 12   |    12 |   12   |\n",
    "| 123     | 123  |   123 |  123   |\n",
    "| 1       | 1    |     1 |   1    |\n",
    "\n",
    ": Demonstration of pipe table syntax"
   ]
  },
  {
   "cell_type": "raw",
   "id": "18c1d529",
   "metadata": {},
   "source": [
    "\\begin{table}\n",
    "\\caption{copy-pasted table }\n",
    "\\begin{tabular}{lrrrr}\n",
    " & A & B & C & D \\\\\n",
    "0 & 1.764052 & 0.400157 & 0.978738 & 2.240893 \\\\\n",
    "1 & 1.867558 & -0.977278 & 0.950088 & -0.151357 \\\\\n",
    "2 & -0.103219 & 0.410599 & 0.144044 & 1.454274 \\\\\n",
    "3 & 0.761038 & 0.121675 & 0.443863 & 0.333674 \\\\\n",
    "4 & 1.494079 & -0.205158 & 0.313068 & -0.854096 \\\\\n",
    "5 & -2.552990 & 0.653619 & 0.864436 & -0.742165 \\\\\n",
    "6 & 2.269755 & -1.454366 & 0.045759 & -0.187184 \\\\\n",
    "7 & 1.532779 & 1.469359 & 0.154947 & 0.378163 \\\\\n",
    "8 & -0.887786 & -1.980796 & -0.347912 & 0.156349 \\\\\n",
    "9 & 1.230291 & 1.202380 & -0.387327 & -0.302303 \\\\\n",
    "\\end{tabular}\n",
    "\\end{table}"
   ]
  },
  {
   "cell_type": "code",
   "execution_count": 23,
   "id": "ba9901f7",
   "metadata": {},
   "outputs": [
    {
     "data": {
      "text/html": [
       "<div>\n",
       "<style scoped>\n",
       "    .dataframe tbody tr th:only-of-type {\n",
       "        vertical-align: middle;\n",
       "    }\n",
       "\n",
       "    .dataframe tbody tr th {\n",
       "        vertical-align: top;\n",
       "    }\n",
       "\n",
       "    .dataframe thead th {\n",
       "        text-align: right;\n",
       "    }\n",
       "</style>\n",
       "<table border=\"1\" class=\"dataframe\">\n",
       "  <thead>\n",
       "    <tr style=\"text-align: right;\">\n",
       "      <th></th>\n",
       "      <th>A</th>\n",
       "      <th>B</th>\n",
       "      <th>C</th>\n",
       "      <th>D</th>\n",
       "    </tr>\n",
       "  </thead>\n",
       "  <tbody>\n",
       "    <tr>\n",
       "      <th>0</th>\n",
       "      <td>1.764052</td>\n",
       "      <td>0.400157</td>\n",
       "      <td>0.978738</td>\n",
       "      <td>2.240893</td>\n",
       "    </tr>\n",
       "    <tr>\n",
       "      <th>1</th>\n",
       "      <td>1.867558</td>\n",
       "      <td>-0.977278</td>\n",
       "      <td>0.950088</td>\n",
       "      <td>-0.151357</td>\n",
       "    </tr>\n",
       "    <tr>\n",
       "      <th>2</th>\n",
       "      <td>-0.103219</td>\n",
       "      <td>0.410599</td>\n",
       "      <td>0.144044</td>\n",
       "      <td>1.454274</td>\n",
       "    </tr>\n",
       "    <tr>\n",
       "      <th>3</th>\n",
       "      <td>0.761038</td>\n",
       "      <td>0.121675</td>\n",
       "      <td>0.443863</td>\n",
       "      <td>0.333674</td>\n",
       "    </tr>\n",
       "    <tr>\n",
       "      <th>4</th>\n",
       "      <td>1.494079</td>\n",
       "      <td>-0.205158</td>\n",
       "      <td>0.313068</td>\n",
       "      <td>-0.854096</td>\n",
       "    </tr>\n",
       "    <tr>\n",
       "      <th>5</th>\n",
       "      <td>-2.552990</td>\n",
       "      <td>0.653619</td>\n",
       "      <td>0.864436</td>\n",
       "      <td>-0.742165</td>\n",
       "    </tr>\n",
       "    <tr>\n",
       "      <th>6</th>\n",
       "      <td>2.269755</td>\n",
       "      <td>-1.454366</td>\n",
       "      <td>0.045759</td>\n",
       "      <td>-0.187184</td>\n",
       "    </tr>\n",
       "    <tr>\n",
       "      <th>7</th>\n",
       "      <td>1.532779</td>\n",
       "      <td>1.469359</td>\n",
       "      <td>0.154947</td>\n",
       "      <td>0.378163</td>\n",
       "    </tr>\n",
       "    <tr>\n",
       "      <th>8</th>\n",
       "      <td>-0.887786</td>\n",
       "      <td>-1.980796</td>\n",
       "      <td>-0.347912</td>\n",
       "      <td>0.156349</td>\n",
       "    </tr>\n",
       "    <tr>\n",
       "      <th>9</th>\n",
       "      <td>1.230291</td>\n",
       "      <td>1.202380</td>\n",
       "      <td>-0.387327</td>\n",
       "      <td>-0.302303</td>\n",
       "    </tr>\n",
       "  </tbody>\n",
       "</table>\n",
       "</div>"
      ],
      "text/plain": [
       "          A         B         C         D\n",
       "0  1.764052  0.400157  0.978738  2.240893\n",
       "1  1.867558 -0.977278  0.950088 -0.151357\n",
       "2 -0.103219  0.410599  0.144044  1.454274\n",
       "3  0.761038  0.121675  0.443863  0.333674\n",
       "4  1.494079 -0.205158  0.313068 -0.854096\n",
       "5 -2.552990  0.653619  0.864436 -0.742165\n",
       "6  2.269755 -1.454366  0.045759 -0.187184\n",
       "7  1.532779  1.469359  0.154947  0.378163\n",
       "8 -0.887786 -1.980796 -0.347912  0.156349\n",
       "9  1.230291  1.202380 -0.387327 -0.302303"
      ]
     },
     "execution_count": 23,
     "metadata": {},
     "output_type": "execute_result"
    }
   ],
   "source": [
    "#| echo: false\n",
    "#| label: tbl-planet-measures\n",
    "#| tbl-cap: Demonstration of generated table\n",
    "\n",
    "import pandas as pd\n",
    "import numpy as np\n",
    "\n",
    "np.random.seed(0)\n",
    "df2 = pd.DataFrame(np.random.randn(10,4), columns=['A','B','C','D'])\n",
    "\n",
    "df2"
   ]
  },
  {
   "cell_type": "markdown",
   "id": "63367024",
   "metadata": {},
   "source": [
    "## Figures\n",
    "\n",
    "- You can add figures that are generated or from a folder\n",
    "- It's like figures markdown but with more options\n"
   ]
  },
  {
   "cell_type": "markdown",
   "id": "e9896b25",
   "metadata": {},
   "source": [
    "![My figure 1, width 300](figures/flow_3.png){width=300 #fig-flow}"
   ]
  },
  {
   "cell_type": "markdown",
   "id": "1c17353b",
   "metadata": {},
   "source": [
    "![My figure width 80](figures/flow_3.png){width=80%}\n"
   ]
  },
  {
   "cell_type": "code",
   "execution_count": 26,
   "id": "9a95bfdb",
   "metadata": {},
   "outputs": [
    {
     "data": {
      "image/png": "[encoded data removed]",
      "text/plain": [
       "<Figure size 640x480 with 1 Axes>"
      ]
     },
     "metadata": {},
     "output_type": "display_data"
    }
   ],
   "source": [
    "#| label: fig-line-plot\n",
    "#| fig-cap: \"A scatter plot\"\n",
    "\n",
    "df.plot.scatter(x='col_1', y='col_2');"
   ]
  },
  {
   "cell_type": "code",
   "execution_count": 27,
   "id": "af7d1817",
   "metadata": {},
   "outputs": [
    {
     "data": {
      "image/png": "[encoded data removed]",
      "text/plain": [
       "<Figure size 640x480 with 1 Axes>"
      ]
     },
     "metadata": {},
     "output_type": "display_data"
    },
    {
     "data": {
      "image/png": "[encoded data removed]",
      "text/plain": [
       "<Figure size 640x480 with 1 Axes>"
      ]
     },
     "metadata": {},
     "output_type": "display_data"
    }
   ],
   "source": [
    "#| label: fig-charts\n",
    "#| fig-cap: \"Charts\"\n",
    "#| fig-subcap: \n",
    "#|   - \"First\"\n",
    "#|   - \"Second\"\n",
    "#| layout-ncol: 2\n",
    "\n",
    "import matplotlib.pyplot as plt\n",
    "plt.plot([1,23,2,4])\n",
    "plt.show()\n",
    "\n",
    "plt.plot([8,65,23,90])\n",
    "plt.show()"
   ]
  },
  {
   "cell_type": "markdown",
   "id": "5e26bb31",
   "metadata": {},
   "source": [
    "#tbl-something\n",
    "#fig-something\n"
   ]
  },
  {
   "cell_type": "markdown",
   "id": "aba8e264",
   "metadata": {},
   "source": [
    "## Cross References {#sec-cross-references}\n",
    "\n",
    "- To reference a figure, table or section, just use its label!\n",
    "- See @tbl-planet-measures\n",
    "- See @fig-charts\n",
    "- See @sec-cross-references"
   ]
  },
  {
   "cell_type": "markdown",
   "id": "02671410",
   "metadata": {},
   "source": [
    "## Citations and Footnotes\n",
    "\n",
    "- For citations, You can use a standard bibtex file, just specify it in the YAML\n",
    "\n",
    "```yaml\n",
    "---\n",
    "bibliography: references.bib\n",
    "---\n",
    "```\n",
    "\n",
    "- See @gupta2021economic [^footnote]\n",
    "- This is true [@gupta2021economic].\n",
    "\n",
    "[^footnote]:  This is footnote.dkfng"
   ]
  },
  {
   "cell_type": "markdown",
   "id": "e913f5c1",
   "metadata": {},
   "source": [
    "## Mermaid\n",
    "\n",
    "```{mermaid}\n",
    "flowchart LR\n",
    "  A[Hard edge] --> B(Round edge)\n",
    "  B --> C{Decision}\n",
    "  C --> D[Result one]\n",
    "  C --> E[Result two]\n",
    "```"
   ]
  },
  {
   "cell_type": "markdown",
   "id": "5e8a4882",
   "metadata": {},
   "source": [
    "## References"
   ]
  }
 ],
 "metadata": {
  "kernelspec": {
   "display_name": "Python 3 (ipykernel)",
   "language": "python",
   "name": "python3"
  },
  "language_info": {
   "codemirror_mode": {
    "name": "ipython",
    "version": 3
   },
   "file_extension": ".py",
   "mimetype": "text/x-python",
   "name": "python",
   "nbconvert_exporter": "python",
   "pygments_lexer": "ipython3",
   "version": "3.9.18"
  }
 },
 "nbformat": 4,
 "nbformat_minor": 5
}
